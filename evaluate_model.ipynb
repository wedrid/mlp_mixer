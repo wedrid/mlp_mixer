{
 "cells": [
  {
   "cell_type": "code",
   "execution_count": 1,
   "metadata": {},
   "outputs": [
    {
     "name": "stdout",
     "output_type": "stream",
     "text": [
      "{'dataset': './cifar100_data', 'comment': 'added weight decay', 'train_size': 140, 'validation_size': 60, 'learning_rate': 0.001, 'epochs': 500, 'steps': 140, 'batch_size': 250, 'image_width_and_height': 32, 'patch_width_and_height': 4, 'hidden_dim_size (n_channels)': 32, 'number_of_layers': 5, 'mlp_dc_dimension': 128, 'mlp_ds_dimension': 32}\n"
     ]
    },
    {
     "data": {
      "text/plain": [
       "MLP_mixer(\n",
       "  (patch_embedder): Conv2d(3, 32, kernel_size=(4, 4), stride=(4, 4))\n",
       "  (mixerlayers): ModuleList(\n",
       "    (0): MixerLayer(\n",
       "      (layer_norm1): LayerNorm((32,), eps=1e-05, elementwise_affine=True)\n",
       "      (layer_norm2): LayerNorm((32,), eps=1e-05, elementwise_affine=True)\n",
       "      (MLP1): MLP(\n",
       "        (linear_gelu_stack): Sequential(\n",
       "          (0): Linear(in_features=64, out_features=32, bias=True)\n",
       "          (1): GELU()\n",
       "          (2): Linear(in_features=32, out_features=64, bias=True)\n",
       "        )\n",
       "      )\n",
       "      (MLP2): MLP(\n",
       "        (linear_gelu_stack): Sequential(\n",
       "          (0): Linear(in_features=32, out_features=128, bias=True)\n",
       "          (1): GELU()\n",
       "          (2): Linear(in_features=128, out_features=32, bias=True)\n",
       "        )\n",
       "      )\n",
       "    )\n",
       "    (1): MixerLayer(\n",
       "      (layer_norm1): LayerNorm((32,), eps=1e-05, elementwise_affine=True)\n",
       "      (layer_norm2): LayerNorm((32,), eps=1e-05, elementwise_affine=True)\n",
       "      (MLP1): MLP(\n",
       "        (linear_gelu_stack): Sequential(\n",
       "          (0): Linear(in_features=64, out_features=32, bias=True)\n",
       "          (1): GELU()\n",
       "          (2): Linear(in_features=32, out_features=64, bias=True)\n",
       "        )\n",
       "      )\n",
       "      (MLP2): MLP(\n",
       "        (linear_gelu_stack): Sequential(\n",
       "          (0): Linear(in_features=32, out_features=128, bias=True)\n",
       "          (1): GELU()\n",
       "          (2): Linear(in_features=128, out_features=32, bias=True)\n",
       "        )\n",
       "      )\n",
       "    )\n",
       "    (2): MixerLayer(\n",
       "      (layer_norm1): LayerNorm((32,), eps=1e-05, elementwise_affine=True)\n",
       "      (layer_norm2): LayerNorm((32,), eps=1e-05, elementwise_affine=True)\n",
       "      (MLP1): MLP(\n",
       "        (linear_gelu_stack): Sequential(\n",
       "          (0): Linear(in_features=64, out_features=32, bias=True)\n",
       "          (1): GELU()\n",
       "          (2): Linear(in_features=32, out_features=64, bias=True)\n",
       "        )\n",
       "      )\n",
       "      (MLP2): MLP(\n",
       "        (linear_gelu_stack): Sequential(\n",
       "          (0): Linear(in_features=32, out_features=128, bias=True)\n",
       "          (1): GELU()\n",
       "          (2): Linear(in_features=128, out_features=32, bias=True)\n",
       "        )\n",
       "      )\n",
       "    )\n",
       "    (3): MixerLayer(\n",
       "      (layer_norm1): LayerNorm((32,), eps=1e-05, elementwise_affine=True)\n",
       "      (layer_norm2): LayerNorm((32,), eps=1e-05, elementwise_affine=True)\n",
       "      (MLP1): MLP(\n",
       "        (linear_gelu_stack): Sequential(\n",
       "          (0): Linear(in_features=64, out_features=32, bias=True)\n",
       "          (1): GELU()\n",
       "          (2): Linear(in_features=32, out_features=64, bias=True)\n",
       "        )\n",
       "      )\n",
       "      (MLP2): MLP(\n",
       "        (linear_gelu_stack): Sequential(\n",
       "          (0): Linear(in_features=32, out_features=128, bias=True)\n",
       "          (1): GELU()\n",
       "          (2): Linear(in_features=128, out_features=32, bias=True)\n",
       "        )\n",
       "      )\n",
       "    )\n",
       "    (4): MixerLayer(\n",
       "      (layer_norm1): LayerNorm((32,), eps=1e-05, elementwise_affine=True)\n",
       "      (layer_norm2): LayerNorm((32,), eps=1e-05, elementwise_affine=True)\n",
       "      (MLP1): MLP(\n",
       "        (linear_gelu_stack): Sequential(\n",
       "          (0): Linear(in_features=64, out_features=32, bias=True)\n",
       "          (1): GELU()\n",
       "          (2): Linear(in_features=32, out_features=64, bias=True)\n",
       "        )\n",
       "      )\n",
       "      (MLP2): MLP(\n",
       "        (linear_gelu_stack): Sequential(\n",
       "          (0): Linear(in_features=32, out_features=128, bias=True)\n",
       "          (1): GELU()\n",
       "          (2): Linear(in_features=128, out_features=32, bias=True)\n",
       "        )\n",
       "      )\n",
       "    )\n",
       "  )\n",
       "  (pre_fc_layernorm): LayerNorm((32,), eps=1e-05, elementwise_affine=True)\n",
       "  (fc_head): Linear(in_features=32, out_features=100, bias=True)\n",
       ")"
      ]
     },
     "execution_count": 1,
     "metadata": {},
     "output_type": "execute_result"
    }
   ],
   "source": [
    "from mlp_mixer import * \n",
    "import json\n",
    "\n",
    "####### EVAL PARAMS\n",
    "one_batch = False\n",
    "\n",
    "path = \"./models/20220314-162951/\"\n",
    "path = \"./models/20220319-183030/\"\n",
    "with open(path+'params.json') as json_file:\n",
    "    params = json.load(json_file)\n",
    "\n",
    "print(params)\n",
    "\n",
    "image_width_height = params['image_width_and_height'] #da cambiare a seconda della dimensione dell'immagine\n",
    "patch_dims = params['patch_width_and_height']\n",
    "# variable_name = value #paper value\n",
    "n_channels = params['hidden_dim_size (n_channels)'] #10 #512\n",
    "num_layers = params['number_of_layers'] #3\n",
    "mlp_dc_dimension = params['mlp_dc_dimension'] #8 #2048 # dc è la dimensione del channel mixing (l'ultimo mlp)\n",
    "mlp_ds_dimension = params['mlp_ds_dimension'] #8 #256 # ds è la dimensione del token mixing (il primo)\n",
    "\n",
    "model = MLP_mixer(img_h_w=image_width_height, patch_dim=patch_dims, n_channels=n_channels, num_mixers_layers=num_layers,\n",
    "    hidden_dim_mlp_token=mlp_ds_dimension, hidden_dim_mlp_channel=mlp_dc_dimension)\n",
    "\n",
    "#model.load_state_dict(torch.load(path+\"final.pth\"))\n",
    "model.load_state_dict(torch.load(path+\"checkpoint_epch_20.pth\"))\n",
    "model.eval()\n"
   ]
  },
  {
   "cell_type": "markdown",
   "metadata": {},
   "source": []
  },
  {
   "cell_type": "code",
   "execution_count": 2,
   "metadata": {},
   "outputs": [],
   "source": [
    "import torchvision\n",
    "import torchvision.transforms as transforms\n",
    "\n",
    "\n",
    "root = './cifar100_data' #if not in lab\n",
    "\n",
    "\n",
    "pad_totensor_transform = transforms.Compose([transforms.ToTensor()]) #no pad, no normalization\n",
    "test_dataset = torchvision.datasets.CIFAR100(root=root, train=False, transform=pad_totensor_transform)\n",
    "\n",
    "if one_batch: \n",
    "    batch_size=len(test_dataset)\n",
    "else:\n",
    "    batch_size = params['batch_size']\n",
    "\n",
    "test_loader = torch.utils.data.DataLoader(dataset=test_dataset, batch_size=batch_size, shuffle=False)\n"
   ]
  },
  {
   "cell_type": "code",
   "execution_count": 3,
   "metadata": {},
   "outputs": [],
   "source": [
    "from sklearn.metrics import accuracy_score\n",
    "from sklearn.metrics import top_k_accuracy_score\n",
    "\n",
    "\n",
    "def get_top_5_accuracy(predicted, true_labels):\n",
    "    #predicted = torch.argmax(predicted.cpu(), dim=1)\n",
    "    #print(f\"PREDICTED SHAPE: {predicted.shape}, TRUE LABELS: {true_labels.shape} \")\n",
    "    return top_k_accuracy_score(true_labels.cpu(), predicted.cpu(), k = 5, labels=np.arange(predicted.shape[1])) #forse questi passaggi a cpu non sono molto efficienti..\n",
    "\n",
    "def get_accuracy(predicted, true_labels):\n",
    "    predicted = torch.argmax(predicted.cpu(), dim=1)\n",
    "    return accuracy_score(predicted, true_labels.cpu()) #forse questi passaggi a cpu non sono molto efficienti.."
   ]
  },
  {
   "cell_type": "code",
   "execution_count": 4,
   "metadata": {},
   "outputs": [
    {
     "data": {
      "application/vnd.jupyter.widget-view+json": {
       "model_id": "6856d0b29191429dbf13fb685476b789",
       "version_major": 2,
       "version_minor": 0
      },
      "text/plain": [
       "  0%|          | 0/40 [00:00<?, ?it/s]"
      ]
     },
     "metadata": {},
     "output_type": "display_data"
    },
    {
     "name": "stdout",
     "output_type": "stream",
     "text": [
      "Accuracy: 0.2953\n",
      "Top 5 accuracy: 0.5962999999999999\n",
      "Average time = 0.09977784752845764\n"
     ]
    }
   ],
   "source": [
    "from tqdm.notebook import tqdm\n",
    "import time\n",
    "import numpy as np\n",
    "\n",
    "loss_func = loss_func = nn.CrossEntropyLoss()\n",
    "\n",
    "#processor warmup\n",
    "warmup = False\n",
    "if warmup:\n",
    "    print(\"Processor warmup..\")\n",
    "    for _ in enumerate(tqdm(test_loader)): #numero esempi/batchsize TODO check\n",
    "        images = images.to(device)\n",
    "        labels = labels.to(device)\n",
    "        for _ in range(5):\n",
    "            predicted = model(images)\n",
    "    print(\"..warmed up!\")\n",
    "\n",
    "if device == 'cuda':\n",
    "    torch.cuda.synchronize()\n",
    "\n",
    "times = list()\n",
    "#sm = nn.Softmax(dim = 1)\n",
    "\n",
    "with torch.no_grad():\n",
    "        model.eval()\n",
    "        val_accuracy = 0\n",
    "        val_top_5_acc = 0\n",
    "        temp = 0\n",
    "        for i, (images, labels) in enumerate(tqdm(test_loader)): #numero esempi/batchsize TODO check\n",
    "            images = images.to(device)\n",
    "            labels = labels.to(device)\n",
    "            \n",
    "            # forward pass\n",
    "            start = time.time()\n",
    "            predicted = model(images)\n",
    "            end = time.time()\n",
    "            elapsed = end - start\n",
    "\n",
    "            times.append(elapsed)\n",
    "            val_accuracy += get_accuracy(predicted, labels)\n",
    "            val_top_5_acc += get_top_5_accuracy(predicted, labels)\n",
    "        #print(f\"Lenght val loader: {len(val_loader)}, counter: {temp}\")\n",
    "        val_accuracy /= len(test_loader) \n",
    "        val_top_5_acc /= len(test_loader)\n",
    "        print(f\"Accuracy: {val_accuracy}\")\n",
    "        print(f\"Top 5 accuracy: {val_top_5_acc}\")\n",
    "        if one_batch:\n",
    "            print(f\"Elapsed: {elapsed}\")\n",
    "        times = np.array(times)\n",
    "        mean_time = times.mean()\n",
    "        print(f\"Average time = {times.mean()}\")"
   ]
  },
  {
   "cell_type": "code",
   "execution_count": 5,
   "metadata": {},
   "outputs": [
    {
     "data": {
      "text/plain": [
       "100"
      ]
     },
     "execution_count": 5,
     "metadata": {},
     "output_type": "execute_result"
    }
   ],
   "source": [
    "predicted.shape[1]"
   ]
  },
  {
   "cell_type": "code",
   "execution_count": 6,
   "metadata": {},
   "outputs": [
    {
     "data": {
      "image/png": "[encoded data removed]",
      "text/plain": [
       "<Figure size 432x288 with 1 Axes>"
      ]
     },
     "metadata": {
      "needs_background": "light"
     },
     "output_type": "display_data"
    },
    {
     "name": "stdout",
     "output_type": "stream",
     "text": [
      "Average time per image: 0.39911139011383057ms\n"
     ]
    }
   ],
   "source": [
    "from matplotlib import pyplot as plt\n",
    "import numpy as np\n",
    "\n",
    "plt.axhline(y=mean_time, color='r', linestyle='-')\n",
    "plt.plot(np.array(times))\n",
    "\n",
    "plt.title(\"Elapsed time per batch\")\n",
    "plt.xlabel(\"Batch\")\n",
    "plt.ylabel(\"Time (s)\")\n",
    "plt.show()\n",
    "\n",
    "print(f\"Average time per image: {(mean_time/batch_size)*1000}ms\")"
   ]
  },
  {
   "cell_type": "code",
   "execution_count": null,
   "metadata": {},
   "outputs": [],
   "source": []
  }
 ],
 "metadata": {
  "interpreter": {
   "hash": "6c12a9f36891af4c5b0dfce9e1e49ba1e8afd45b3a8e9c06689a1b7faea4e57c"
  },
  "kernelspec": {
   "display_name": "Python 3.8.12 ('pytorch')",
   "language": "python",
   "name": "python3"
  },
  "language_info": {
   "codemirror_mode": {
    "name": "ipython",
    "version": 3
   },
   "file_extension": ".py",
   "mimetype": "text/x-python",
   "name": "python",
   "nbconvert_exporter": "python",
   "pygments_lexer": "ipython3",
   "version": "3.8.12"
  },
  "orig_nbformat": 4
 },
 "nbformat": 4,
 "nbformat_minor": 2
}

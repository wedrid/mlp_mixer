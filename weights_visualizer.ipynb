{
 "cells": [
  {
   "cell_type": "code",
   "execution_count": 7,
   "id": "b439738a",
   "metadata": {},
   "outputs": [
    {
     "name": "stdout",
     "output_type": "stream",
     "text": [
      "{'train_size': 140, 'validation_size': 60, 'learning_rate': 0.001, 'epochs': 10, 'steps': 140, 'batch_size': 250, 'image_width_and_height': 32, 'patch_width_and_height': 4, 'hidden_dim_size (n_channels)': 10, 'number_of_layers': 3, 'mlp_dc_dimension': 32, 'mlp_ds_dimension': 32}\n"
     ]
    },
    {
     "data": {
      "text/plain": [
       "MLP_mixer(\n",
       "  (patch_embedder): Conv2d(3, 10, kernel_size=(4, 4), stride=(4, 4))\n",
       "  (mixerlayers): ModuleList(\n",
       "    (0): MixerLayer(\n",
       "      (layer_norm1): LayerNorm((10,), eps=1e-05, elementwise_affine=True)\n",
       "      (layer_norm2): LayerNorm((10,), eps=1e-05, elementwise_affine=True)\n",
       "      (MLP1): MLP(\n",
       "        (linear_gelu_stack): Sequential(\n",
       "          (0): Linear(in_features=64, out_features=32, bias=True)\n",
       "          (1): GELU()\n",
       "          (2): Linear(in_features=32, out_features=64, bias=True)\n",
       "        )\n",
       "      )\n",
       "      (MLP2): MLP(\n",
       "        (linear_gelu_stack): Sequential(\n",
       "          (0): Linear(in_features=10, out_features=32, bias=True)\n",
       "          (1): GELU()\n",
       "          (2): Linear(in_features=32, out_features=10, bias=True)\n",
       "        )\n",
       "      )\n",
       "    )\n",
       "    (1): MixerLayer(\n",
       "      (layer_norm1): LayerNorm((10,), eps=1e-05, elementwise_affine=True)\n",
       "      (layer_norm2): LayerNorm((10,), eps=1e-05, elementwise_affine=True)\n",
       "      (MLP1): MLP(\n",
       "        (linear_gelu_stack): Sequential(\n",
       "          (0): Linear(in_features=64, out_features=32, bias=True)\n",
       "          (1): GELU()\n",
       "          (2): Linear(in_features=32, out_features=64, bias=True)\n",
       "        )\n",
       "      )\n",
       "      (MLP2): MLP(\n",
       "        (linear_gelu_stack): Sequential(\n",
       "          (0): Linear(in_features=10, out_features=32, bias=True)\n",
       "          (1): GELU()\n",
       "          (2): Linear(in_features=32, out_features=10, bias=True)\n",
       "        )\n",
       "      )\n",
       "    )\n",
       "    (2): MixerLayer(\n",
       "      (layer_norm1): LayerNorm((10,), eps=1e-05, elementwise_affine=True)\n",
       "      (layer_norm2): LayerNorm((10,), eps=1e-05, elementwise_affine=True)\n",
       "      (MLP1): MLP(\n",
       "        (linear_gelu_stack): Sequential(\n",
       "          (0): Linear(in_features=64, out_features=32, bias=True)\n",
       "          (1): GELU()\n",
       "          (2): Linear(in_features=32, out_features=64, bias=True)\n",
       "        )\n",
       "      )\n",
       "      (MLP2): MLP(\n",
       "        (linear_gelu_stack): Sequential(\n",
       "          (0): Linear(in_features=10, out_features=32, bias=True)\n",
       "          (1): GELU()\n",
       "          (2): Linear(in_features=32, out_features=10, bias=True)\n",
       "        )\n",
       "      )\n",
       "    )\n",
       "  )\n",
       "  (pre_fc_layernorm): LayerNorm((10,), eps=1e-05, elementwise_affine=True)\n",
       "  (fc_head): Linear(in_features=10, out_features=100, bias=True)\n",
       ")"
      ]
     },
     "execution_count": 7,
     "metadata": {},
     "output_type": "execute_result"
    }
   ],
   "source": [
    "from mlp_mixer import * \n",
    "import json\n",
    "\n",
    "path = \"./models/20220314-162951/\"\n",
    "path = \"./models/20220314-163715/\"\n",
    "with open(path+'params.json') as json_file:\n",
    "    params = json.load(json_file)\n",
    "\n",
    "print(params)\n",
    "\n",
    "image_width_height = params['image_width_and_height'] #da cambiare a seconda della dimensione dell'immagine\n",
    "patch_dims = params['patch_width_and_height']\n",
    "# variable_name = value #paper value\n",
    "n_channels = params['hidden_dim_size (n_channels)'] #10 #512\n",
    "num_layers = params['number_of_layers'] #3\n",
    "mlp_dc_dimension = params['mlp_dc_dimension'] #8 #2048 # dc è la dimensione del channel mixing (l'ultimo mlp)\n",
    "mlp_ds_dimension = params['mlp_ds_dimension'] #8 #256 # ds è la dimensione del token mixing (il primo)\n",
    "\n",
    "model = MLP_mixer(img_h_w=image_width_height, patch_dim=patch_dims, n_channels=n_channels, num_mixers_layers=num_layers,\n",
    "    hidden_dim_mlp_token=mlp_ds_dimension, hidden_dim_mlp_channel=mlp_dc_dimension)\n",
    "\n",
    "model.load_state_dict(torch.load(path+\"final.pth\"))\n",
    "model.eval()\n"
   ]
  },
  {
   "cell_type": "code",
   "execution_count": 8,
   "id": "6e94e5cf",
   "metadata": {},
   "outputs": [
    {
     "name": "stdout",
     "output_type": "stream",
     "text": [
      "Linear(in_features=64, out_features=32, bias=True)\n"
     ]
    }
   ],
   "source": [
    "print(model.mixerlayers[0].MLP1.linear_gelu_stack[0])\n"
   ]
  },
  {
   "cell_type": "code",
   "execution_count": 9,
   "id": "a0b72357",
   "metadata": {},
   "outputs": [],
   "source": [
    "import numpy as np\n",
    "block0 = model.mixerlayers[0].MLP1.linear_gelu_stack[0].weight.detach().numpy()\n",
    "block1 = model.mixerlayers[0].MLP1.linear_gelu_stack[2].weight.detach().numpy()"
   ]
  },
  {
   "cell_type": "code",
   "execution_count": 10,
   "id": "a1178ba0",
   "metadata": {},
   "outputs": [
    {
     "data": {
      "image/png": "[encoded data removed]",
      "text/plain": [
       "<Figure size 432x288 with 1 Axes>"
      ]
     },
     "metadata": {
      "needs_background": "light"
     },
     "output_type": "display_data"
    }
   ],
   "source": [
    "import matplotlib.pyplot as plt\n",
    "import seaborn as sns\n",
    "import numpy as np\n",
    "\n",
    "# ogni riga è una weight visualization\n",
    "import math\n",
    "width = int(math.sqrt(block0.shape[1]))\n",
    "row = block0[0].reshape(width, width)\n",
    "plt.imshow(row, cmap='hot', interpolation='nearest')\n",
    "plt.show()"
   ]
  },
  {
   "cell_type": "code",
   "execution_count": 14,
   "id": "f22fb9fc",
   "metadata": {},
   "outputs": [
    {
     "data": {
      "image/png": "[encoded data removed]",
      "text/plain": [
       "<Figure size 432x288 with 40 Axes>"
      ]
     },
     "metadata": {
      "needs_background": "light"
     },
     "output_type": "display_data"
    }
   ],
   "source": [
    "def plot_weights(block, elements_per_row = 16):\n",
    "    #block = block0 #per block1, uguale facendo trasposizione, vogliamo block = (#hidden, tbd)\n",
    "    #elements_per_row = 8 #quando ci sono tante hidden layers, da decidere quanti elementi visualizzare per ogni riga\n",
    "    width = int(math.sqrt(block.shape[1]))\n",
    "    fig, axs = plt.subplots((block.shape[0] // elements_per_row)+1, elements_per_row)\n",
    "\n",
    "    for row in axs:\n",
    "        for col in row: \n",
    "            col.set_axis_off()\n",
    "    #axs[1,1].set_axis_off()\n",
    "\n",
    "    row_index = -1\n",
    "    for i in range(block.shape[0]):\n",
    "        if i % elements_per_row == 0:\n",
    "            row_index += 1\n",
    "        row = block[i].reshape(width, width)\n",
    "        ax = axs[row_index, i%elements_per_row]\n",
    "        ax.imshow(row, cmap='hot', interpolation='nearest')\n",
    "        ax.set_axis_on()\n",
    "        ax.set_yticklabels([])\n",
    "        ax.set_xticklabels([])\n",
    "\n",
    "\n",
    "plot_weights(block0, 8)"
   ]
  }
 ],
 "metadata": {
  "interpreter": {
   "hash": "6c12a9f36891af4c5b0dfce9e1e49ba1e8afd45b3a8e9c06689a1b7faea4e57c"
  },
  "kernelspec": {
   "display_name": "Python 3.8.12 ('pytorch')",
   "language": "python",
   "name": "python3"
  },
  "language_info": {
   "codemirror_mode": {
    "name": "ipython",
    "version": 3
   },
   "file_extension": ".py",
   "mimetype": "text/x-python",
   "name": "python",
   "nbconvert_exporter": "python",
   "pygments_lexer": "ipython3",
   "version": "3.8.12"
  }
 },
 "nbformat": 4,
 "nbformat_minor": 5
}

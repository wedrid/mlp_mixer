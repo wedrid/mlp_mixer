{
 "cells": [
  {
   "cell_type": "markdown",
   "id": "19b22627",
   "metadata": {},
   "source": [
    "Hyperparameters definition and loading of CIFAR100 from pytorch torchvision"
   ]
  },
  {
   "cell_type": "code",
   "execution_count": 1,
   "id": "6e97b3e2",
   "metadata": {},
   "outputs": [
    {
     "name": "stdout",
     "output_type": "stream",
     "text": [
      "Files already downloaded and verified\n"
     ]
    }
   ],
   "source": [
    "from comet_ml import Experiment\n",
    "import torch\n",
    "import torchvision\n",
    "import torchvision.transforms as transforms\n",
    "\n",
    "train_portion = 0.7\n",
    "\n",
    "#controllare che len(val) è len(train)\n",
    "\n",
    "#hyperparameters\n",
    "batch_size = 250\n",
    "\n",
    "#pad_totensor_transform = transforms.Compose([transforms.Pad(2), transforms.ToTensor()]) # does the padding, images 32x32 become 36x36 (symmetric increase) so that are divisible by three and patches are 12x12\n",
    "pad_totensor_transform = transforms.Compose([transforms.ToTensor()]) #no pad, no normalization\n",
    "\n",
    "dataset = torchvision.datasets.CIFAR100(root='./cifar100_data', train=True, transform=pad_totensor_transform, download=True)\n",
    "train_subset, val_subset = torch.utils.data.random_split(dataset, [int(train_portion*len(dataset)), len(dataset) - int(train_portion*len(dataset))], generator=torch.Generator().manual_seed(1))\n",
    "test_dataset = torchvision.datasets.CIFAR100(root='./cifar100_data', train=False, transform=pad_totensor_transform)\n",
    "\n",
    "\n",
    "train_loader = torch.utils.data.DataLoader(dataset=train_subset, shuffle=True, batch_size=batch_size)\n",
    "val_loader = torch.utils.data.DataLoader(dataset=val_subset, shuffle=False, batch_size=batch_size)\n",
    "test_loader = torch.utils.data.DataLoader(dataset=test_dataset, batch_size=batch_size, shuffle=False)\n",
    "\n"
   ]
  },
  {
   "cell_type": "code",
   "execution_count": 2,
   "id": "9047054d",
   "metadata": {},
   "outputs": [
    {
     "name": "stdout",
     "output_type": "stream",
     "text": [
      "torch.Size([250, 3, 32, 32]) torch.Size([250])\n",
      "torch.Size([3, 32, 32])\n",
      "torch.Size([3, 32, 32])\n"
     ]
    },
    {
     "data": {
      "image/png": "[encoded data removed]",
      "text/plain": [
       "<Figure size 432x288 with 1 Axes>"
      ]
     },
     "metadata": {
      "needs_background": "light"
     },
     "output_type": "display_data"
    }
   ],
   "source": [
    "#test dataloader\n",
    "\n",
    "examples = iter(train_loader)\n",
    "samples, labels = examples.next()\n",
    "print(samples.shape, labels.shape)\n",
    "\n",
    "import matplotlib.pyplot as plt\n",
    "\n",
    "img_sample = samples[0]\n",
    "print(img_sample.shape)\n",
    "print(img_sample.shape)\n",
    "plt.imshow(img_sample.permute(1, 2, 0))\n",
    "plt.show()"
   ]
  },
  {
   "cell_type": "markdown",
   "id": "c2e7b597",
   "metadata": {},
   "source": [
    "**Training loop**"
   ]
  },
  {
   "cell_type": "code",
   "execution_count": 3,
   "id": "21d9992d",
   "metadata": {},
   "outputs": [],
   "source": [
    "from mlp_mixer import *\n",
    "from tqdm.notebook import tqdm\n",
    "from sklearn.metrics import accuracy_score"
   ]
  },
  {
   "cell_type": "code",
   "execution_count": 4,
   "id": "18b8d606",
   "metadata": {},
   "outputs": [],
   "source": [
    "def get_accuracy(predicted, true_labels):\n",
    "    predicted = torch.argmax(predicted, dim=1)\n",
    "    return accuracy_score(predicted, true_labels)\n",
    "\n",
    "def save_model(model):\n",
    "    import time\n",
    "    filename = time.strftime(\"%Y%m%d-%H%M%S\")\n",
    "    filename = \"./models/mlpmixer_\"+filename+\".pth\"\n",
    "    print(filename)\n",
    "    torch.save(model.state_dict(), filename)    "
   ]
  },
  {
   "cell_type": "code",
   "execution_count": 9,
   "id": "3aae0e01",
   "metadata": {},
   "outputs": [
    {
     "name": "stderr",
     "output_type": "stream",
     "text": [
      "COMET INFO: ---------------------------\n",
      "COMET INFO: Comet.ml Experiment Summary\n",
      "COMET INFO: ---------------------------\n",
      "COMET INFO:   Data:\n",
      "COMET INFO:     display_summary_level : 1\n",
      "COMET INFO:     url                   : https://www.comet.ml/wedrid/mlp-mixer/92521f82e0ec4f02b3fbc755e17f9f91\n",
      "COMET INFO:   Parameters:\n",
      "COMET INFO:     batch_size                   : 250\n",
      "COMET INFO:     epochs                       : 1\n",
      "COMET INFO:     hidden_dim_size (n_channels) : 100\n",
      "COMET INFO:     image_width_and_height       : 32\n",
      "COMET INFO:     learning_rate                : 0.001\n",
      "COMET INFO:     mlp_dc_dimension             : 1024\n",
      "COMET INFO:     mlp_ds_dimension             : 128\n",
      "COMET INFO:     number_of_layers             : 8\n",
      "COMET INFO:     patch_width_and_height       : 8\n",
      "COMET INFO:     steps                        : 140\n",
      "COMET INFO:     train_size                   : 140\n",
      "COMET INFO:     validation_size              : 60\n",
      "COMET INFO:   Uploads:\n",
      "COMET INFO:     environment details      : 1\n",
      "COMET INFO:     filename                 : 1\n",
      "COMET INFO:     git metadata             : 1\n",
      "COMET INFO:     git-patch (uncompressed) : 1 (41 KB)\n",
      "COMET INFO:     installed packages       : 1\n",
      "COMET INFO: ---------------------------\n",
      "COMET INFO: Experiment is live on comet.ml https://www.comet.ml/wedrid/mlp-mixer/a2baa9cc0b0347ed8ea2a66e3f4efe3e\n",
      "\n"
     ]
    },
    {
     "data": {
      "application/vnd.jupyter.widget-view+json": {
       "model_id": "b51c7980cc6a498f93183d308f73709f",
       "version_major": 2,
       "version_minor": 0
      },
      "text/plain": [
       "  0%|          | 0/1 [00:00<?, ?it/s]"
      ]
     },
     "metadata": {},
     "output_type": "display_data"
    },
    {
     "data": {
      "application/vnd.jupyter.widget-view+json": {
       "model_id": "b39dc87aaa3242a09b91dde991256111",
       "version_major": 2,
       "version_minor": 0
      },
      "text/plain": [
       "  0%|          | 0/140 [00:00<?, ?it/s]"
      ]
     },
     "metadata": {},
     "output_type": "display_data"
    },
    {
     "name": "stdout",
     "output_type": "stream",
     "text": [
      "Loss of epoch 1: 3.8502\n"
     ]
    },
    {
     "data": {
      "application/vnd.jupyter.widget-view+json": {
       "model_id": "bc34e0450bf34c4585a029c831c770c2",
       "version_major": 2,
       "version_minor": 0
      },
      "text/plain": [
       "  0%|          | 0/60 [00:00<?, ?it/s]"
      ]
     },
     "metadata": {},
     "output_type": "display_data"
    }
   ],
   "source": [
    "\n",
    "experiment = Experiment(\n",
    "    api_key=\"xX6qWBFbiOreu0W3IrO14b9nB\",\n",
    "    project_name=\"mlp-mixer\",\n",
    "    workspace=\"wedrid\",\n",
    ")\n",
    "\n",
    "device = 'cuda' if torch.cuda.is_available() else 'cpu'\n",
    "\n",
    "image_width_height = img_sample.shape[1]\n",
    "patch_dims = 4\n",
    "# variable_name = value #paper value\n",
    "n_channels = 100 #512\n",
    "loss_func = nn.CrossEntropyLoss()\n",
    "learning_rate = 0.001\n",
    "num_layers = 8\n",
    "mlp_dc_dimension = 1024 #2048 # dc è la dimensione del channel mixing (l'ultimo mlp)\n",
    "mlp_ds_dimension = 128 #256 # ds è la dimensione del token mixing (il primo)\n",
    "\n",
    "model = MLP_mixer(img_h_w=image_width_height, patch_dim=patch_dims, n_channels=n_channels, num_mixers_layers=num_layers,\n",
    "    hidden_dim_mlp_token=mlp_ds_dimension, hidden_dim_mlp_channel=mlp_dc_dimension) #in this case 2 patches 16x16\n",
    "optimizer = torch.optim.Adam(model.parameters(), lr = learning_rate)\n",
    "\n",
    "num_epochs = 1\n",
    "steps_total = len(train_loader)\n",
    "\n",
    "hyper_params = {\n",
    "    \"train_size\": len(train_loader),\n",
    "    \"validation_size\": len(val_loader),\n",
    "    \"learning_rate\": learning_rate,\n",
    "    \"epochs\": num_epochs,\n",
    "    \"steps\": steps_total,\n",
    "    \"batch_size\": batch_size,\n",
    "    \"image_width_and_height\": image_width_height,\n",
    "    \"patch_width_and_height\": patch_dims,\n",
    "    \"hidden_dim_size (n_channels)\": n_channels,\n",
    "    \"number_of_layers\": num_layers,\n",
    "    \"mlp_dc_dimension\": mlp_dc_dimension,\n",
    "    \"mlp_ds_dimension\": mlp_ds_dimension\n",
    "}\n",
    "\n",
    "experiment.log_parameters(hyper_params)\n",
    "\n",
    "# training loop\n",
    "for epoch in tqdm(range(num_epochs)):\n",
    "    model.train()\n",
    "    train_accuracy = 0\n",
    "    for i, (images, labels) in enumerate(tqdm(train_loader)):\n",
    "        # [100, 3, 36, 36] is what is returned by iterator\n",
    "        images = images.to(device)\n",
    "        true_labels = labels.to(device)\n",
    "        \n",
    "        # forward pass\n",
    "        predicted = model(images)\n",
    "        loss = loss_func(predicted, true_labels)\n",
    "        train_accuracy += get_accuracy(predicted, true_labels)\n",
    "\n",
    "        # backwards pass\n",
    "        optimizer.zero_grad()\n",
    "        loss.backward()\n",
    "        optimizer.step()\n",
    "        \n",
    "        if False and (i+1) % 100:\n",
    "            print(f'epoch: {epoch+1} of {num_epochs}, step {i+1} of {steps_total}, loss = {loss.item():.4f}')\n",
    "    print(f\"Loss of epoch {epoch+1}: {loss.item():.4f}\")\n",
    "    train_accuracy /= len(train_loader)\n",
    "    experiment.log_metric(\"train epoch loss\", loss.item(), step=epoch)\n",
    "    experiment.log_metric(\"mean train epoch accuracy\", train_accuracy, step=epoch)\n",
    "    # validation\n",
    "    with torch.no_grad():\n",
    "        model.eval()\n",
    "        val_accuracy = 0\n",
    "        for i, (images, labels) in enumerate(tqdm(val_loader)):\n",
    "            # [100, 3, 36, 36] is what is returned by iterator\n",
    "            images = images.to(device)\n",
    "            true_labels = labels.to(device)\n",
    "            \n",
    "            # forward pass\n",
    "            predicted = model(images)\n",
    "            loss = loss_func(predicted, true_labels)\n",
    "            val_accuracy += get_accuracy(predicted, true_labels)\n",
    "        val_accuracy /= len(val_loader)\n",
    "        experiment.log_metric(\"val epoch loss\", loss.item(), step=epoch)\n",
    "        experiment.log_metric(\"mean val epoch accuracy\", val_accuracy, step=epoch)"
   ]
  },
  {
   "cell_type": "code",
   "execution_count": 10,
   "id": "7ddcc6cd",
   "metadata": {},
   "outputs": [
    {
     "name": "stdout",
     "output_type": "stream",
     "text": [
      "./models/mlpmixer_20220308-182921.pth\n"
     ]
    }
   ],
   "source": [
    "save_model(model)\n"
   ]
  },
  {
   "cell_type": "code",
   "execution_count": 7,
   "id": "84652e6e",
   "metadata": {},
   "outputs": [
    {
     "name": "stdout",
     "output_type": "stream",
     "text": [
      "torch.Size([250, 100])\n",
      "Accuracy 0.116\n",
      "torch.Size([250])\n",
      "tensor([49, 53, 95, 86,  0, 73, 36,  0, 27, 36, 66, 36, 95, 20, 24, 36,  0, 69,\n",
      "        68,  7, 73, 47,  5, 36, 18, 34, 73, 34,  0, 54, 36, 41, 17, 34, 17, 42,\n",
      "        53, 60, 36,  0, 36, 78,  0, 36, 52, 57, 17,  0, 51, 73,  5, 47,  0, 53,\n",
      "        52, 78, 53, 36, 21, 78,  7, 36, 86, 60, 27, 53, 64, 36, 52, 52, 69, 27,\n",
      "        37, 69, 69, 69,  0, 36, 36, 42, 43,  5, 69, 41, 37, 89, 53, 37, 36, 69,\n",
      "        42, 47, 60, 22, 24, 52, 57, 94, 53, 34, 95, 34, 34, 16, 24,  3,  3, 95,\n",
      "        78, 77, 42, 18, 61, 17, 34, 69, 73, 33, 86, 36, 54, 34, 36, 34, 36, 21,\n",
      "         5, 69, 60, 53, 60, 42, 60, 17, 31, 53, 36, 41, 53, 69, 68, 36, 94, 31,\n",
      "         3,  7, 62, 68, 52, 36, 41, 47, 34, 34, 95, 82, 60,  3, 54, 53, 17, 36,\n",
      "        92, 37,  5, 73, 60, 41, 89, 92, 36, 18, 21, 36, 86, 43, 49, 42, 62, 73,\n",
      "        18, 97, 95,  0, 43,  0, 56, 97, 24, 69, 43, 54, 18, 83, 36, 48, 43, 60,\n",
      "        37, 17, 54, 52, 34, 54, 82,  3, 27, 34, 34, 43, 24,  3, 68, 36, 41, 85,\n",
      "        53, 47, 43, 52, 68, 69, 52, 21, 24, 36, 90, 86, 78, 60, 60, 37, 21, 36,\n",
      "        57, 31,  0, 41,  3, 34, 15, 42, 43, 18, 27, 36, 36, 33, 36, 68])\n"
     ]
    }
   ],
   "source": [
    "examples = iter(train_loader)\n",
    "images, labels = examples.next()\n",
    "\n",
    "# metrics trial\n",
    "images = images.to(device)\n",
    "labels = labels.to(device)\n",
    "\n",
    "# forward pass\n",
    "outputs = model(images)\n",
    "loss = loss_func(outputs, labels)\n",
    "\n",
    "#da mettere nel ciclo\n",
    "print(outputs.shape)\n",
    "\n",
    "#####\n",
    "predicted = torch.argmax(outputs, dim=1)\n",
    "accuracy = accuracy_score(predicted, labels)\n",
    "print(f'Accuracy {accuracy}')\n",
    "#####\n",
    "print(predicted.shape)\n",
    "print(predicted)\n"
   ]
  }
 ],
 "metadata": {
  "interpreter": {
   "hash": "6c12a9f36891af4c5b0dfce9e1e49ba1e8afd45b3a8e9c06689a1b7faea4e57c"
  },
  "kernelspec": {
   "display_name": "Python 3.8.12 ('pytorch')",
   "language": "python",
   "name": "python3"
  },
  "language_info": {
   "codemirror_mode": {
    "name": "ipython",
    "version": 3
   },
   "file_extension": ".py",
   "mimetype": "text/x-python",
   "name": "python",
   "nbconvert_exporter": "python",
   "pygments_lexer": "ipython3",
   "version": "3.8.12"
  }
 },
 "nbformat": 4,
 "nbformat_minor": 5
}

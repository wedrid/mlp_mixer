{
 "cells": [
  {
   "cell_type": "code",
   "execution_count": 1,
   "metadata": {},
   "outputs": [],
   "source": [
    "from mlp_mixer import *\n"
   ]
  },
  {
   "cell_type": "code",
   "execution_count": 2,
   "metadata": {},
   "outputs": [
    {
     "name": "stdout",
     "output_type": "stream",
     "text": [
      "Files already downloaded and verified\n"
     ]
    }
   ],
   "source": [
    "import torch\n",
    "import torchvision\n",
    "import torchvision.transforms as transforms\n",
    "\n",
    "#hyperparameters\n",
    "batch_size = 100\n",
    "\n",
    "pad_totensor_transform = transforms.Compose([transforms.Pad(2), transforms.ToTensor()]) # does the padding, images 32x32 become 36x36 (symmetric increase) so that are divisible by three and patches are 12x12\n",
    "\n",
    "train_dataset = torchvision.datasets.CIFAR100(root='./cifar100_data', train=True, transform=pad_totensor_transform, download=True)\n",
    "\n",
    "test_dataset = torchvision.datasets.CIFAR100(root='./cifar100_data', train=False, transform=pad_totensor_transform)\n",
    "\n",
    "train_loader = torch.utils.data.DataLoader(dataset=train_dataset, batch_size=batch_size, shuffle=True)\n",
    "test_loader = torch.utils.data.DataLoader(dataset=test_dataset, batch_size=batch_size, shuffle=False)"
   ]
  },
  {
   "cell_type": "code",
   "execution_count": 3,
   "metadata": {},
   "outputs": [
    {
     "name": "stdout",
     "output_type": "stream",
     "text": [
      "Size of item: torch.Size([100, 3, 36, 36])\n",
      "Size of embedding: torch.Size([100, 9, 16])\n"
     ]
    }
   ],
   "source": [
    "# check patch embedding\n",
    "item = iter(train_loader).next()[0]\n",
    "print(f\"Size of item: {item.size()}\")\n",
    "\n",
    "embedder = PatchEmbedding(embed_dim=16, patch_size=12)\n",
    "embedding = embedder.forward(item)\n",
    "print(f\"Size of embedding: {embedding.size()}\")"
   ]
  },
  {
   "cell_type": "code",
   "execution_count": 4,
   "metadata": {},
   "outputs": [
    {
     "name": "stdout",
     "output_type": "stream",
     "text": [
      "ModuleList(\n",
      "  (0): MixerLayer(\n",
      "    (layer_norm1): LayerNorm((16,), eps=1e-05, elementwise_affine=True)\n",
      "    (layer_norm2): LayerNorm((16,), eps=1e-05, elementwise_affine=True)\n",
      "    (MLP1): MLP(\n",
      "      (linear_gelu_stack): Sequential(\n",
      "        (0): Linear(in_features=3, out_features=10, bias=True)\n",
      "        (1): GELU()\n",
      "        (2): Linear(in_features=10, out_features=3, bias=True)\n",
      "      )\n",
      "    )\n",
      "    (MLP2): MLP(\n",
      "      (linear_gelu_stack): Sequential(\n",
      "        (0): Linear(in_features=16, out_features=10, bias=True)\n",
      "        (1): GELU()\n",
      "        (2): Linear(in_features=10, out_features=16, bias=True)\n",
      "      )\n",
      "    )\n",
      "  )\n",
      "  (1): MixerLayer(\n",
      "    (layer_norm1): LayerNorm((16,), eps=1e-05, elementwise_affine=True)\n",
      "    (layer_norm2): LayerNorm((16,), eps=1e-05, elementwise_affine=True)\n",
      "    (MLP1): MLP(\n",
      "      (linear_gelu_stack): Sequential(\n",
      "        (0): Linear(in_features=3, out_features=10, bias=True)\n",
      "        (1): GELU()\n",
      "        (2): Linear(in_features=10, out_features=3, bias=True)\n",
      "      )\n",
      "    )\n",
      "    (MLP2): MLP(\n",
      "      (linear_gelu_stack): Sequential(\n",
      "        (0): Linear(in_features=16, out_features=10, bias=True)\n",
      "        (1): GELU()\n",
      "        (2): Linear(in_features=10, out_features=16, bias=True)\n",
      "      )\n",
      "    )\n",
      "  )\n",
      "  (2): MixerLayer(\n",
      "    (layer_norm1): LayerNorm((16,), eps=1e-05, elementwise_affine=True)\n",
      "    (layer_norm2): LayerNorm((16,), eps=1e-05, elementwise_affine=True)\n",
      "    (MLP1): MLP(\n",
      "      (linear_gelu_stack): Sequential(\n",
      "        (0): Linear(in_features=3, out_features=10, bias=True)\n",
      "        (1): GELU()\n",
      "        (2): Linear(in_features=10, out_features=3, bias=True)\n",
      "      )\n",
      "    )\n",
      "    (MLP2): MLP(\n",
      "      (linear_gelu_stack): Sequential(\n",
      "        (0): Linear(in_features=16, out_features=10, bias=True)\n",
      "        (1): GELU()\n",
      "        (2): Linear(in_features=10, out_features=16, bias=True)\n",
      "      )\n",
      "    )\n",
      "  )\n",
      "  (3): MixerLayer(\n",
      "    (layer_norm1): LayerNorm((16,), eps=1e-05, elementwise_affine=True)\n",
      "    (layer_norm2): LayerNorm((16,), eps=1e-05, elementwise_affine=True)\n",
      "    (MLP1): MLP(\n",
      "      (linear_gelu_stack): Sequential(\n",
      "        (0): Linear(in_features=3, out_features=10, bias=True)\n",
      "        (1): GELU()\n",
      "        (2): Linear(in_features=10, out_features=3, bias=True)\n",
      "      )\n",
      "    )\n",
      "    (MLP2): MLP(\n",
      "      (linear_gelu_stack): Sequential(\n",
      "        (0): Linear(in_features=16, out_features=10, bias=True)\n",
      "        (1): GELU()\n",
      "        (2): Linear(in_features=10, out_features=16, bias=True)\n",
      "      )\n",
      "    )\n",
      "  )\n",
      "  (4): MixerLayer(\n",
      "    (layer_norm1): LayerNorm((16,), eps=1e-05, elementwise_affine=True)\n",
      "    (layer_norm2): LayerNorm((16,), eps=1e-05, elementwise_affine=True)\n",
      "    (MLP1): MLP(\n",
      "      (linear_gelu_stack): Sequential(\n",
      "        (0): Linear(in_features=3, out_features=10, bias=True)\n",
      "        (1): GELU()\n",
      "        (2): Linear(in_features=10, out_features=3, bias=True)\n",
      "      )\n",
      "    )\n",
      "    (MLP2): MLP(\n",
      "      (linear_gelu_stack): Sequential(\n",
      "        (0): Linear(in_features=16, out_features=10, bias=True)\n",
      "        (1): GELU()\n",
      "        (2): Linear(in_features=10, out_features=16, bias=True)\n",
      "      )\n",
      "    )\n",
      "  )\n",
      "  (5): MixerLayer(\n",
      "    (layer_norm1): LayerNorm((16,), eps=1e-05, elementwise_affine=True)\n",
      "    (layer_norm2): LayerNorm((16,), eps=1e-05, elementwise_affine=True)\n",
      "    (MLP1): MLP(\n",
      "      (linear_gelu_stack): Sequential(\n",
      "        (0): Linear(in_features=3, out_features=10, bias=True)\n",
      "        (1): GELU()\n",
      "        (2): Linear(in_features=10, out_features=3, bias=True)\n",
      "      )\n",
      "    )\n",
      "    (MLP2): MLP(\n",
      "      (linear_gelu_stack): Sequential(\n",
      "        (0): Linear(in_features=16, out_features=10, bias=True)\n",
      "        (1): GELU()\n",
      "        (2): Linear(in_features=10, out_features=16, bias=True)\n",
      "      )\n",
      "    )\n",
      "  )\n",
      "  (6): MixerLayer(\n",
      "    (layer_norm1): LayerNorm((16,), eps=1e-05, elementwise_affine=True)\n",
      "    (layer_norm2): LayerNorm((16,), eps=1e-05, elementwise_affine=True)\n",
      "    (MLP1): MLP(\n",
      "      (linear_gelu_stack): Sequential(\n",
      "        (0): Linear(in_features=3, out_features=10, bias=True)\n",
      "        (1): GELU()\n",
      "        (2): Linear(in_features=10, out_features=3, bias=True)\n",
      "      )\n",
      "    )\n",
      "    (MLP2): MLP(\n",
      "      (linear_gelu_stack): Sequential(\n",
      "        (0): Linear(in_features=16, out_features=10, bias=True)\n",
      "        (1): GELU()\n",
      "        (2): Linear(in_features=10, out_features=16, bias=True)\n",
      "      )\n",
      "    )\n",
      "  )\n",
      ")\n"
     ]
    }
   ],
   "source": [
    "mlpmixer = MLP_mixer()"
   ]
  }
 ],
 "metadata": {
  "interpreter": {
   "hash": "6c12a9f36891af4c5b0dfce9e1e49ba1e8afd45b3a8e9c06689a1b7faea4e57c"
  },
  "kernelspec": {
   "display_name": "Python 3.8.12 ('pytorch')",
   "language": "python",
   "name": "python3"
  },
  "language_info": {
   "codemirror_mode": {
    "name": "ipython",
    "version": 3
   },
   "file_extension": ".py",
   "mimetype": "text/x-python",
   "name": "python",
   "nbconvert_exporter": "python",
   "pygments_lexer": "ipython3",
   "version": "3.8.12"
  },
  "orig_nbformat": 4
 },
 "nbformat": 4,
 "nbformat_minor": 2
}
